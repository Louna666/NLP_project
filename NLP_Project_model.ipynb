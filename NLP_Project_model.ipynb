{
  "nbformat": 4,
  "nbformat_minor": 0,
  "metadata": {
    "colab": {
      "name": "NLP_Project_model.ipynb",
      "provenance": [],
      "collapsed_sections": []
    },
    "kernelspec": {
      "name": "python3",
      "display_name": "Python 3"
    },
    "language_info": {
      "name": "python"
    },
    "accelerator": "GPU"
  },
  "cells": [
    {
      "cell_type": "code",
      "execution_count": 9,
      "metadata": {
        "colab": {
          "base_uri": "https://localhost:8080/"
        },
        "id": "2Yw4H-WD6NTb",
        "outputId": "f2368dd6-a930-4273-9e1b-946ec7803e96"
      },
      "outputs": [
        {
          "output_type": "stream",
          "name": "stdout",
          "text": [
            "[nltk_data] Downloading package punkt to /root/nltk_data...\n",
            "[nltk_data]   Package punkt is already up-to-date!\n",
            "[nltk_data] Downloading package wordnet to /root/nltk_data...\n",
            "[nltk_data]   Package wordnet is already up-to-date!\n",
            "[nltk_data] Downloading package stopwords to /root/nltk_data...\n",
            "[nltk_data]   Package stopwords is already up-to-date!\n"
          ]
        }
      ],
      "source": [
        "import pandas as pd\n",
        "import nltk  \n",
        "nltk.download('punkt')\n",
        "nltk.download('wordnet')\n",
        "nltk.download('stopwords')\n",
        "import re\n",
        "import numpy as np\n",
        "from nltk.tokenize import word_tokenize\n",
        "from nltk.stem import WordNetLemmatizer\n",
        "from nltk.corpus import stopwords\n",
        "from wordcloud import WordCloud\n",
        "import matplotlib.pyplot as plt\n",
        "from keras.preprocessing.text import Tokenizer\n",
        "from keras.preprocessing.sequence import pad_sequences\n",
        "from sklearn.manifold import TSNE\n",
        "from sklearn.feature_extraction.text import TfidfVectorizer\n",
        "import xgboost as xgb\n",
        "import seaborn as sns"
      ]
    },
    {
      "cell_type": "code",
      "source": [
        "from google.colab import drive\n",
        "drive.mount('/content/drive')"
      ],
      "metadata": {
        "colab": {
          "base_uri": "https://localhost:8080/"
        },
        "id": "ajU7i5l26ZqL",
        "outputId": "1a759684-4a32-4f92-a873-45815757e3af"
      },
      "execution_count": 10,
      "outputs": [
        {
          "output_type": "stream",
          "name": "stdout",
          "text": [
            "Drive already mounted at /content/drive; to attempt to forcibly remount, call drive.mount(\"/content/drive\", force_remount=True).\n"
          ]
        }
      ]
    },
    {
      "cell_type": "code",
      "source": [
        "train_data = pd.read_csv('/content/drive/My Drive/train.csv')"
      ],
      "metadata": {
        "id": "sGjiWCOi6gm4"
      },
      "execution_count": 11,
      "outputs": []
    },
    {
      "cell_type": "code",
      "source": [
        "with open('/content/drive/My Drive/features.csv', 'rb') as f:\n",
        "    features=np.load(f)"
      ],
      "metadata": {
        "id": "a4bDSgSXVwZ9"
      },
      "execution_count": 12,
      "outputs": []
    },
    {
      "cell_type": "code",
      "source": [
        "from sklearn.model_selection import train_test_split\n",
        "\n",
        "train_data, validation_data,train_features,validation_features= train_test_split(train_data, features,test_size=0.1)"
      ],
      "metadata": {
        "id": "rd6zgy508Evu"
      },
      "execution_count": 13,
      "outputs": []
    },
    {
      "cell_type": "code",
      "source": [
        "en_stops = set(stopwords.words('english'))\n",
        "lem=WordNetLemmatizer()\n",
        "def clean_text(texts):\n",
        "  clean_texts=[]\n",
        "  for text in texts : \n",
        "    text=re.sub(\"i'm\", \"I am \", str(text))\n",
        "    text=re.sub(\"'ve\", \"have\", str(text))\n",
        "    text=re.sub(\"can't\", \"cannot\", str(text))\n",
        "    text=re.sub(r\"[^A-Za-z0-9^,!.\\/'+-=]\", \" \", str(text))\n",
        "    text=text.split()\n",
        "    text=[word for word in text if word not in en_stops]\n",
        "    text=[word.lower() for word in text]\n",
        "    text=[lem.lemmatize(word) for word in text]\n",
        "    clean_texts.append(text)\n",
        "  return clean_texts\n",
        "\n",
        "train_q1=clean_text(train_data.question1.values)\n",
        "train_q2=clean_text(train_data.question2.values)\n",
        "test_q1=clean_text(validation_data.question1.values)\n",
        "test_q2=clean_text(validation_data.question2.values)\n",
        "\n"
      ],
      "metadata": {
        "id": "J6YlYxC57Q7w"
      },
      "execution_count": 14,
      "outputs": []
    },
    {
      "cell_type": "code",
      "source": [
        "train_common_words=[]\n",
        "train_different_words=[]\n",
        "test_common_words=[]\n",
        "test_different_words=[]\n",
        "for i in range(len (train_q1)):\n",
        "  train_common_words.append([word for word in train_q1[i] if word in train_q2[i] ])\n",
        "  train_different_words.append([word for word in train_q1[i] if word not in train_q2[i]]+[word for word in train_q2[i] if word not in train_q1[i]] )\n",
        "for i in range(len (test_q1)):\n",
        "  test_common_words.append([word for word in test_q1[i] if word in test_q2[i] ])\n",
        "  test_different_words.append([word for word in test_q1[i] if word not in test_q2[i]]+[word for word in test_q2[i] if word not in test_q1[i]] )"
      ],
      "metadata": {
        "id": "bDTDGiWd7S9W"
      },
      "execution_count": 15,
      "outputs": []
    },
    {
      "cell_type": "code",
      "source": [
        "tokenizer = Tokenizer(num_words=100000)\n",
        "tokenizer.fit_on_texts(train_q1 + train_q2 + test_q1 + test_q2)\n",
        "train_questions_1 = tokenizer.texts_to_sequences(train_q1)\n",
        "train_questions_2 = tokenizer.texts_to_sequences(train_q2)\n",
        "train_common_words = tokenizer.texts_to_sequences(train_common_words)\n",
        "train_different_words = tokenizer.texts_to_sequences(train_different_words)\n",
        "test_questions_1 = tokenizer.texts_to_sequences(test_q1)\n",
        "test_questions_2 = tokenizer.texts_to_sequences(test_q2)\n",
        "test_common_words = tokenizer.texts_to_sequences(test_common_words)\n",
        "test_different_words = tokenizer.texts_to_sequences(test_different_words)"
      ],
      "metadata": {
        "id": "j5K_Fdtz7VC8"
      },
      "execution_count": 16,
      "outputs": []
    },
    {
      "cell_type": "code",
      "source": [
        "pad_train_q1 = pad_sequences(train_questions_1, maxlen=40)\n",
        "pad_train_q2 = pad_sequences(train_questions_2, maxlen=40)\n",
        "pad_train_common_words = pad_sequences(train_common_words, maxlen=40)\n",
        "pad_train_different_words = pad_sequences(train_different_words, maxlen=40)\n",
        "pad_train_q2 = pad_sequences(train_questions_2, maxlen=40)\n",
        "pad_test_q1 = pad_sequences(test_questions_1, maxlen=40)\n",
        "pad_test_q2 = pad_sequences(test_questions_2, maxlen=40)\n",
        "pad_test_common_words = pad_sequences(test_common_words, maxlen=40)\n",
        "pad_test_different_words = pad_sequences(test_different_words, maxlen=40)"
      ],
      "metadata": {
        "id": "aODMlGF27XUf"
      },
      "execution_count": 17,
      "outputs": []
    },
    {
      "cell_type": "code",
      "source": [
        "!wget http://nlp.stanford.edu/data/glove.6B.zip\n",
        "!unzip glove*.zip\n",
        "f = open('glove.6B.300d.txt', encoding='utf-8')\n",
        "embeddings_index = {}\n",
        "for line in f:\n",
        "    values = line.split()\n",
        "    word = values[0]\n",
        "    coefs = np.asarray(values[1:], dtype='float32')\n",
        "    embeddings_index[word] = coefs\n",
        "f.close()\n",
        "\n",
        "print('Found %s word vectors.' % len(embeddings_index))"
      ],
      "metadata": {
        "colab": {
          "base_uri": "https://localhost:8080/"
        },
        "id": "GoQj3l4T7ZnV",
        "outputId": "11ebebab-353f-497b-c296-63a9598daab6"
      },
      "execution_count": 18,
      "outputs": [
        {
          "output_type": "stream",
          "name": "stdout",
          "text": [
            "--2022-05-01 20:52:11--  http://nlp.stanford.edu/data/glove.6B.zip\n",
            "Resolving nlp.stanford.edu (nlp.stanford.edu)... 171.64.67.140\n",
            "Connecting to nlp.stanford.edu (nlp.stanford.edu)|171.64.67.140|:80... connected.\n",
            "HTTP request sent, awaiting response... 302 Found\n",
            "Location: https://nlp.stanford.edu/data/glove.6B.zip [following]\n",
            "--2022-05-01 20:52:11--  https://nlp.stanford.edu/data/glove.6B.zip\n",
            "Connecting to nlp.stanford.edu (nlp.stanford.edu)|171.64.67.140|:443... connected.\n",
            "HTTP request sent, awaiting response... 301 Moved Permanently\n",
            "Location: http://downloads.cs.stanford.edu/nlp/data/glove.6B.zip [following]\n",
            "--2022-05-01 20:52:11--  http://downloads.cs.stanford.edu/nlp/data/glove.6B.zip\n",
            "Resolving downloads.cs.stanford.edu (downloads.cs.stanford.edu)... 171.64.64.22\n",
            "Connecting to downloads.cs.stanford.edu (downloads.cs.stanford.edu)|171.64.64.22|:80... connected.\n",
            "HTTP request sent, awaiting response... 200 OK\n",
            "Length: 862182613 (822M) [application/zip]\n",
            "Saving to: ‘glove.6B.zip’\n",
            "\n",
            "glove.6B.zip        100%[===================>] 822.24M  5.02MB/s    in 2m 40s  \n",
            "\n",
            "2022-05-01 20:54:51 (5.15 MB/s) - ‘glove.6B.zip’ saved [862182613/862182613]\n",
            "\n",
            "Archive:  glove.6B.zip\n",
            "  inflating: glove.6B.50d.txt        \n",
            "  inflating: glove.6B.100d.txt       \n",
            "  inflating: glove.6B.200d.txt       \n",
            "  inflating: glove.6B.300d.txt       \n",
            "Found 400000 word vectors.\n"
          ]
        }
      ]
    },
    {
      "cell_type": "code",
      "source": [
        "embedding_matrix = np.random.random((len(tokenizer.word_index)+1, 300))\n",
        "for word, i in tokenizer.word_index.items():\n",
        "    embedding_vector = embeddings_index.get(word)\n",
        "    if embedding_vector is not None:\n",
        "        embedding_matrix[i] = embedding_vector"
      ],
      "metadata": {
        "id": "99POjzpt7du2"
      },
      "execution_count": 19,
      "outputs": []
    },
    {
      "cell_type": "code",
      "source": [
        "with open('/content/drive/My Drive/pad_train1.csv', 'wb') as f:\n",
        "    np.save(f, pad_train_q1)\n",
        "with open('/content/drive/My Drive/pad_train_2.csv', 'wb') as f:\n",
        "    np.save(f, pad_train_q2)\n",
        "with open('/content/drive/My Drive/pad_test_1.csv', 'wb') as f:\n",
        "    np.save(f, pad_test_q1)\n",
        "with open('/content/drive/My Drive/pad_test_2.csv', 'wb') as f:\n",
        "    np.save(f, pad_test_q2)\n",
        "with open('/content/drive/My Drive/pad_train_common_words.csv', 'wb') as f:\n",
        "    np.save(f, pad_train_common_words)\n",
        "with open('/content/drive/My Drive/pad_train_different_words.csv', 'wb') as f:\n",
        "    np.save(f, pad_train_different_words)\n",
        "with open('/content/drive/My Drive/pad_test_common_words.csv', 'wb') as f:\n",
        "    np.save(f, pad_train_common_words)\n",
        "with open('/content/drive/My Drive/pad_test_different_words.csv', 'wb') as f:\n",
        "    np.save(f, pad_train_different_words)\n",
        "with open('/content/drive/My Drive/embedding_matrix.csv', 'wb') as f:\n",
        "    np.save(f, embedding_matrix)"
      ],
      "metadata": {
        "id": "Prkyvss486cm"
      },
      "execution_count": 20,
      "outputs": []
    },
    {
      "cell_type": "code",
      "source": [
        "vocab_size=len(tokenizer.word_index)\n",
        "print(vocab_size)"
      ],
      "metadata": {
        "colab": {
          "base_uri": "https://localhost:8080/"
        },
        "id": "pKuhXsQX7gt1",
        "outputId": "dbcb0f7d-4e7e-4901-f4be-f06cf7ecb623"
      },
      "execution_count": 21,
      "outputs": [
        {
          "output_type": "stream",
          "name": "stdout",
          "text": [
            "133824\n"
          ]
        }
      ]
    },
    {
      "cell_type": "code",
      "source": [
        "import keras.backend as K\n",
        "#f1 from keras source code\n",
        "def f1(y_true, y_pred): \n",
        "    true_positives = K.sum(K.round(K.clip(y_true * y_pred, 0, 1)))\n",
        "    possible_positives = K.sum(K.round(K.clip(y_true, 0, 1)))\n",
        "    predicted_positives = K.sum(K.round(K.clip(y_pred, 0, 1)))\n",
        "    precision = true_positives / (predicted_positives + K.epsilon())\n",
        "    recall = true_positives / (possible_positives + K.epsilon())\n",
        "    f1_val = 2*(precision*recall)/(precision+recall+K.epsilon())\n",
        "    return f1_val"
      ],
      "metadata": {
        "id": "ttW67nY67niL"
      },
      "execution_count": 27,
      "outputs": []
    },
    {
      "cell_type": "code",
      "source": [
        "import tensorflow as tf\n",
        "from tensorflow.keras.layers import *\n",
        "from tensorflow.keras.models import Model\n",
        "from tensorflow.keras.layers import BatchNormalization\n",
        "input_1 = Input(shape=(None,),dtype='int32')\n",
        "x1 = Embedding(input_dim = vocab_size+1,\n",
        "                       output_dim = 300,\n",
        "                      weights = [embedding_matrix],\n",
        "                      input_length = 30,trainable=False)(input_1)\n",
        "x1 = LSTM(64, activation='tanh',dropout=0.2)(x1)\n",
        "\n",
        "\n",
        "\n",
        "input_2 = Input(shape=(None,),dtype='int32')\n",
        "x2 = Embedding(input_dim = vocab_size+1,\n",
        "                       output_dim = 300,\n",
        "                      weights = [embedding_matrix],\n",
        "                      input_length = 30,trainable=False)(input_2)\n",
        "x2 = LSTM(64, activation='tanh',dropout=0.2)(x2)\n",
        "\n",
        "\n",
        "\n",
        "result=concatenate([x1,x2],axis=-1)\n",
        "result=Flatten()(result)\n",
        "result=Dense(64,activation='relu')(result)\n",
        "result=Dropout(0.2)(result)\n",
        "result=Dense(1,activation='sigmoid')(result)\n",
        "small_model=Model([input_1, input_2], result)"
      ],
      "metadata": {
        "id": "x0fYxiwseJDG"
      },
      "execution_count": 36,
      "outputs": []
    },
    {
      "cell_type": "code",
      "source": [
        "small_model.compile(loss='binary_crossentropy', optimizer='adam',metrics = ['accuracy',f1])\n",
        "small_model.summary()"
      ],
      "metadata": {
        "colab": {
          "base_uri": "https://localhost:8080/"
        },
        "id": "ggzgzcNPed83",
        "outputId": "fe281e59-15cd-4eff-ca69-f9c4288e79a9"
      },
      "execution_count": 37,
      "outputs": [
        {
          "output_type": "stream",
          "name": "stdout",
          "text": [
            "Model: \"model_6\"\n",
            "__________________________________________________________________________________________________\n",
            " Layer (type)                   Output Shape         Param #     Connected to                     \n",
            "==================================================================================================\n",
            " input_22 (InputLayer)          [(None, None)]       0           []                               \n",
            "                                                                                                  \n",
            " input_23 (InputLayer)          [(None, None)]       0           []                               \n",
            "                                                                                                  \n",
            " embedding_16 (Embedding)       (None, None, 300)    40147500    ['input_22[0][0]']               \n",
            "                                                                                                  \n",
            " embedding_17 (Embedding)       (None, None, 300)    40147500    ['input_23[0][0]']               \n",
            "                                                                                                  \n",
            " lstm_16 (LSTM)                 (None, 64)           93440       ['embedding_16[0][0]']           \n",
            "                                                                                                  \n",
            " lstm_17 (LSTM)                 (None, 64)           93440       ['embedding_17[0][0]']           \n",
            "                                                                                                  \n",
            " concatenate_4 (Concatenate)    (None, 128)          0           ['lstm_16[0][0]',                \n",
            "                                                                  'lstm_17[0][0]']                \n",
            "                                                                                                  \n",
            " flatten_4 (Flatten)            (None, 128)          0           ['concatenate_4[0][0]']          \n",
            "                                                                                                  \n",
            " dense_19 (Dense)               (None, 64)           8256        ['flatten_4[0][0]']              \n",
            "                                                                                                  \n",
            " dropout_8 (Dropout)            (None, 64)           0           ['dense_19[0][0]']               \n",
            "                                                                                                  \n",
            " dense_20 (Dense)               (None, 1)            65          ['dropout_8[0][0]']              \n",
            "                                                                                                  \n",
            "==================================================================================================\n",
            "Total params: 80,490,201\n",
            "Trainable params: 195,201\n",
            "Non-trainable params: 80,295,000\n",
            "__________________________________________________________________________________________________\n"
          ]
        }
      ]
    },
    {
      "cell_type": "code",
      "source": [
        "small_history_simple=small_model.fit([pad_train_q1, pad_train_q2], train_data.iloc[:,5:].values, \n",
        "          validation_data=([pad_test_q1, pad_test_q2], validation_data.iloc[:,5:].values), \n",
        "          batch_size=128, epochs=10)"
      ],
      "metadata": {
        "colab": {
          "base_uri": "https://localhost:8080/"
        },
        "id": "d11EQsJvei5M",
        "outputId": "12104f2e-9e09-4a73-9202-1a04da8194fa"
      },
      "execution_count": 39,
      "outputs": [
        {
          "output_type": "stream",
          "name": "stdout",
          "text": [
            "Epoch 1/10\n",
            "2843/2843 [==============================] - 39s 13ms/step - loss: 0.5250 - accuracy: 0.7317 - f1: 0.5765 - val_loss: 0.4745 - val_accuracy: 0.7646 - val_f1: 0.6576\n",
            "Epoch 2/10\n",
            "2843/2843 [==============================] - 30s 10ms/step - loss: 0.4618 - accuracy: 0.7720 - f1: 0.6647 - val_loss: 0.4457 - val_accuracy: 0.7827 - val_f1: 0.7013\n",
            "Epoch 3/10\n",
            "2843/2843 [==============================] - 30s 10ms/step - loss: 0.4322 - accuracy: 0.7899 - f1: 0.6993 - val_loss: 0.4321 - val_accuracy: 0.7891 - val_f1: 0.7102\n",
            "Epoch 4/10\n",
            "2843/2843 [==============================] - 29s 10ms/step - loss: 0.4122 - accuracy: 0.8017 - f1: 0.7203 - val_loss: 0.4259 - val_accuracy: 0.7941 - val_f1: 0.7231\n",
            "Epoch 5/10\n",
            "2843/2843 [==============================] - 30s 10ms/step - loss: 0.3976 - accuracy: 0.8101 - f1: 0.7345 - val_loss: 0.4191 - val_accuracy: 0.7996 - val_f1: 0.7264\n",
            "Epoch 6/10\n",
            "2843/2843 [==============================] - 29s 10ms/step - loss: 0.3856 - accuracy: 0.8166 - f1: 0.7452 - val_loss: 0.4155 - val_accuracy: 0.8026 - val_f1: 0.7269\n",
            "Epoch 7/10\n",
            "2843/2843 [==============================] - 30s 10ms/step - loss: 0.3764 - accuracy: 0.8217 - f1: 0.7534 - val_loss: 0.4161 - val_accuracy: 0.8028 - val_f1: 0.7281\n",
            "Epoch 8/10\n",
            "2843/2843 [==============================] - 29s 10ms/step - loss: 0.3678 - accuracy: 0.8267 - f1: 0.7610 - val_loss: 0.4250 - val_accuracy: 0.7981 - val_f1: 0.7391\n",
            "Epoch 9/10\n",
            "2843/2843 [==============================] - 29s 10ms/step - loss: 0.3603 - accuracy: 0.8304 - f1: 0.7665 - val_loss: 0.4175 - val_accuracy: 0.8060 - val_f1: 0.7346\n",
            "Epoch 10/10\n",
            "2843/2843 [==============================] - 29s 10ms/step - loss: 0.3549 - accuracy: 0.8345 - f1: 0.7727 - val_loss: 0.4191 - val_accuracy: 0.8026 - val_f1: 0.7359\n"
          ]
        }
      ]
    },
    {
      "cell_type": "code",
      "source": [
        "small_history_simple.history[\"f1\"]"
      ],
      "metadata": {
        "colab": {
          "base_uri": "https://localhost:8080/"
        },
        "id": "nT4qX_6ZgNNM",
        "outputId": "2ee110fb-3f04-4cc2-d7d6-19e489e60644"
      },
      "execution_count": 44,
      "outputs": [
        {
          "output_type": "execute_result",
          "data": {
            "text/plain": [
              "[0.5764544606208801,\n",
              " 0.6646879315376282,\n",
              " 0.6992942690849304,\n",
              " 0.7202714681625366,\n",
              " 0.734495222568512,\n",
              " 0.7451789379119873,\n",
              " 0.7533965110778809,\n",
              " 0.760974645614624,\n",
              " 0.7665177583694458,\n",
              " 0.7727280259132385]"
            ]
          },
          "metadata": {},
          "execution_count": 44
        }
      ]
    },
    {
      "cell_type": "code",
      "source": [
        "small_model.compile(loss='binary_crossentropy', optimizer='adam',metrics = ['accuracy',f1])\n",
        "small_model.summary()"
      ],
      "metadata": {
        "colab": {
          "base_uri": "https://localhost:8080/"
        },
        "id": "pI7q6elafHc_",
        "outputId": "b6f0781a-14ca-4255-dab3-f7b3674b1b5f"
      },
      "execution_count": 45,
      "outputs": [
        {
          "output_type": "stream",
          "name": "stdout",
          "text": [
            "Model: \"model_6\"\n",
            "__________________________________________________________________________________________________\n",
            " Layer (type)                   Output Shape         Param #     Connected to                     \n",
            "==================================================================================================\n",
            " input_22 (InputLayer)          [(None, None)]       0           []                               \n",
            "                                                                                                  \n",
            " input_23 (InputLayer)          [(None, None)]       0           []                               \n",
            "                                                                                                  \n",
            " embedding_16 (Embedding)       (None, None, 300)    40147500    ['input_22[0][0]']               \n",
            "                                                                                                  \n",
            " embedding_17 (Embedding)       (None, None, 300)    40147500    ['input_23[0][0]']               \n",
            "                                                                                                  \n",
            " lstm_16 (LSTM)                 (None, 64)           93440       ['embedding_16[0][0]']           \n",
            "                                                                                                  \n",
            " lstm_17 (LSTM)                 (None, 64)           93440       ['embedding_17[0][0]']           \n",
            "                                                                                                  \n",
            " concatenate_4 (Concatenate)    (None, 128)          0           ['lstm_16[0][0]',                \n",
            "                                                                  'lstm_17[0][0]']                \n",
            "                                                                                                  \n",
            " flatten_4 (Flatten)            (None, 128)          0           ['concatenate_4[0][0]']          \n",
            "                                                                                                  \n",
            " dense_19 (Dense)               (None, 64)           8256        ['flatten_4[0][0]']              \n",
            "                                                                                                  \n",
            " dropout_8 (Dropout)            (None, 64)           0           ['dense_19[0][0]']               \n",
            "                                                                                                  \n",
            " dense_20 (Dense)               (None, 1)            65          ['dropout_8[0][0]']              \n",
            "                                                                                                  \n",
            "==================================================================================================\n",
            "Total params: 80,490,201\n",
            "Trainable params: 195,201\n",
            "Non-trainable params: 80,295,000\n",
            "__________________________________________________________________________________________________\n"
          ]
        }
      ]
    },
    {
      "cell_type": "code",
      "source": [
        "small_history_intersect=small_model.fit([pad_train_common_words, pad_train_different_words], train_data.iloc[:,5:].values, \n",
        "          validation_data=([pad_test_common_words, pad_test_different_words], validation_data.iloc[:,5:].values), \n",
        "          batch_size=128, epochs=10)"
      ],
      "metadata": {
        "colab": {
          "base_uri": "https://localhost:8080/"
        },
        "id": "z2rYX9-u70mt",
        "outputId": "20d87f1a-0276-450f-b460-55f22bf2d2ae"
      },
      "execution_count": 46,
      "outputs": [
        {
          "output_type": "stream",
          "name": "stdout",
          "text": [
            "Epoch 1/10\n",
            "2843/2843 [==============================] - 36s 12ms/step - loss: 0.4065 - accuracy: 0.8020 - f1: 0.7332 - val_loss: 0.3751 - val_accuracy: 0.8207 - val_f1: 0.7557\n",
            "Epoch 2/10\n",
            "2843/2843 [==============================] - 29s 10ms/step - loss: 0.3618 - accuracy: 0.8287 - f1: 0.7672 - val_loss: 0.3640 - val_accuracy: 0.8274 - val_f1: 0.7665\n",
            "Epoch 3/10\n",
            "2843/2843 [==============================] - 29s 10ms/step - loss: 0.3432 - accuracy: 0.8391 - f1: 0.7812 - val_loss: 0.3638 - val_accuracy: 0.8300 - val_f1: 0.7769\n",
            "Epoch 4/10\n",
            "2843/2843 [==============================] - 29s 10ms/step - loss: 0.3296 - accuracy: 0.8469 - f1: 0.7920 - val_loss: 0.3562 - val_accuracy: 0.8361 - val_f1: 0.7757\n",
            "Epoch 5/10\n",
            "2843/2843 [==============================] - 29s 10ms/step - loss: 0.3197 - accuracy: 0.8514 - f1: 0.7982 - val_loss: 0.3542 - val_accuracy: 0.8361 - val_f1: 0.7764\n",
            "Epoch 6/10\n",
            "2843/2843 [==============================] - 29s 10ms/step - loss: 0.3108 - accuracy: 0.8566 - f1: 0.8055 - val_loss: 0.3570 - val_accuracy: 0.8358 - val_f1: 0.7808\n",
            "Epoch 7/10\n",
            "2843/2843 [==============================] - 29s 10ms/step - loss: 0.3033 - accuracy: 0.8599 - f1: 0.8102 - val_loss: 0.3539 - val_accuracy: 0.8375 - val_f1: 0.7846\n",
            "Epoch 8/10\n",
            "2843/2843 [==============================] - 29s 10ms/step - loss: 0.2977 - accuracy: 0.8631 - f1: 0.8145 - val_loss: 0.3562 - val_accuracy: 0.8370 - val_f1: 0.7813\n",
            "Epoch 9/10\n",
            "2843/2843 [==============================] - 29s 10ms/step - loss: 0.2918 - accuracy: 0.8661 - f1: 0.8187 - val_loss: 0.3563 - val_accuracy: 0.8382 - val_f1: 0.7858\n",
            "Epoch 10/10\n",
            "2843/2843 [==============================] - 29s 10ms/step - loss: 0.2866 - accuracy: 0.8689 - f1: 0.8227 - val_loss: 0.3582 - val_accuracy: 0.8396 - val_f1: 0.7843\n"
          ]
        }
      ]
    },
    {
      "cell_type": "code",
      "source": [
        "#Model with features\n",
        "input_5 = Input(shape=(10,),dtype='int32')\n",
        "x5= Dense(128,activation='relu')(input_5)\n",
        "x5=Dropout(0.2)(x5)\n",
        "x5= Dense(64,activation='relu')(x5)\n",
        "result=Dense(1,activation='sigmoid')(x5)\n",
        "model_features=Model(input_5, result)\n",
        "model_features.compile(loss='binary_crossentropy', optimizer='adam',metrics = ['accuracy',f1])\n",
        "model_features.summary()\n"
      ],
      "metadata": {
        "colab": {
          "base_uri": "https://localhost:8080/"
        },
        "id": "uv1TeGUqcg0d",
        "outputId": "859eaa31-8972-413b-b1d3-5a14e0b3a2d5"
      },
      "execution_count": 32,
      "outputs": [
        {
          "output_type": "stream",
          "name": "stdout",
          "text": [
            "Model: \"model_4\"\n",
            "_________________________________________________________________\n",
            " Layer (type)                Output Shape              Param #   \n",
            "=================================================================\n",
            " input_19 (InputLayer)       [(None, 10)]              0         \n",
            "                                                                 \n",
            " dense_14 (Dense)            (None, 128)               1408      \n",
            "                                                                 \n",
            " dropout_6 (Dropout)         (None, 128)               0         \n",
            "                                                                 \n",
            " dense_15 (Dense)            (None, 64)                8256      \n",
            "                                                                 \n",
            " dense_16 (Dense)            (None, 1)                 65        \n",
            "                                                                 \n",
            "=================================================================\n",
            "Total params: 9,729\n",
            "Trainable params: 9,729\n",
            "Non-trainable params: 0\n",
            "_________________________________________________________________\n"
          ]
        }
      ]
    },
    {
      "cell_type": "code",
      "source": [
        "history_features=model_features.fit(train_features, train_data.iloc[:,5:].values, \n",
        "          validation_data=(validation_features, validation_data.iloc[:,5:].values), \n",
        "          batch_size=128, epochs=10)"
      ],
      "metadata": {
        "colab": {
          "base_uri": "https://localhost:8080/"
        },
        "id": "5gGV94Gnc2Hb",
        "outputId": "e90692f5-a5e3-4b0c-d0bc-5069e09a4040"
      },
      "execution_count": 34,
      "outputs": [
        {
          "output_type": "stream",
          "name": "stdout",
          "text": [
            "Epoch 1/10\n",
            "2843/2843 [==============================] - 10s 3ms/step - loss: 0.4993 - accuracy: 0.7189 - f1: 0.6395 - val_loss: 0.4998 - val_accuracy: 0.7226 - val_f1: 0.5947\n",
            "Epoch 2/10\n",
            "2843/2843 [==============================] - 10s 4ms/step - loss: 0.4978 - accuracy: 0.7205 - f1: 0.6416 - val_loss: 0.4960 - val_accuracy: 0.7216 - val_f1: 0.6247\n",
            "Epoch 3/10\n",
            "2843/2843 [==============================] - 11s 4ms/step - loss: 0.4969 - accuracy: 0.7210 - f1: 0.6437 - val_loss: 0.4932 - val_accuracy: 0.7245 - val_f1: 0.5960\n",
            "Epoch 4/10\n",
            "2843/2843 [==============================] - 10s 3ms/step - loss: 0.4960 - accuracy: 0.7206 - f1: 0.6423 - val_loss: 0.4917 - val_accuracy: 0.7281 - val_f1: 0.6250\n",
            "Epoch 5/10\n",
            "2843/2843 [==============================] - 11s 4ms/step - loss: 0.4954 - accuracy: 0.7222 - f1: 0.6443 - val_loss: 0.4904 - val_accuracy: 0.7270 - val_f1: 0.6226\n",
            "Epoch 6/10\n",
            "2843/2843 [==============================] - 10s 3ms/step - loss: 0.4950 - accuracy: 0.7220 - f1: 0.6446 - val_loss: 0.4886 - val_accuracy: 0.7290 - val_f1: 0.6275\n",
            "Epoch 7/10\n",
            "2843/2843 [==============================] - 10s 3ms/step - loss: 0.4945 - accuracy: 0.7231 - f1: 0.6443 - val_loss: 0.4955 - val_accuracy: 0.7280 - val_f1: 0.6043\n",
            "Epoch 8/10\n",
            "2843/2843 [==============================] - 10s 4ms/step - loss: 0.4944 - accuracy: 0.7227 - f1: 0.6447 - val_loss: 0.4915 - val_accuracy: 0.7204 - val_f1: 0.5691\n",
            "Epoch 9/10\n",
            "2843/2843 [==============================] - 10s 3ms/step - loss: 0.4937 - accuracy: 0.7229 - f1: 0.6450 - val_loss: 0.4969 - val_accuracy: 0.7200 - val_f1: 0.5541\n",
            "Epoch 10/10\n",
            "2843/2843 [==============================] - 10s 3ms/step - loss: 0.4935 - accuracy: 0.7231 - f1: 0.6449 - val_loss: 0.4895 - val_accuracy: 0.7256 - val_f1: 0.6165\n"
          ]
        }
      ]
    },
    {
      "cell_type": "code",
      "source": [
        "#Final model\n",
        "input_1 = Input(shape=(None,),dtype='int32')\n",
        "x1 = Embedding(input_dim = vocab_size+1,\n",
        "                       output_dim = 300,\n",
        "                      weights = [embedding_matrix],\n",
        "                      input_length = 30,trainable=False)(input_1)\n",
        "x1 = LSTM(64, activation='tanh',dropout=0.4)(x1)\n",
        "\n",
        "\n",
        "\n",
        "input_2 = Input(shape=(None,),dtype='int32')\n",
        "x2 = Embedding(input_dim = vocab_size+1,\n",
        "                       output_dim = 300,\n",
        "                      weights = [embedding_matrix],\n",
        "                      input_length = 30,trainable=False)(input_2)\n",
        "x2 = LSTM(64, activation='tanh',dropout=0.4)(x2)\n",
        "\n",
        "input_3 = Input(shape=(None,),dtype='int32')\n",
        "x3= Embedding(input_dim = vocab_size+1,\n",
        "                       output_dim = 300,\n",
        "                      weights = [embedding_matrix],\n",
        "                      input_length = 30,trainable=False)(input_3)\n",
        "x3 = LSTM(64, activation='tanh',dropout=0.4)(x3)\n",
        "\n",
        "input_4 = Input(shape=(None,),dtype='int32')\n",
        "x4= Embedding(input_dim = vocab_size+1,\n",
        "                       output_dim = 300,\n",
        "                      weights = [embedding_matrix],\n",
        "                      input_length = 30,trainable=False)(input_4)\n",
        "x4 = LSTM(64, activation='tanh',dropout=0.4)(x4)\n",
        "\n",
        "input_5 = Input(shape=(10,),dtype='int32')\n",
        "x5= Dense(128,activation='relu')(input_5)\n",
        "x5=Dropout(0.2)(x5)\n",
        "x5= Dense(64,activation='relu')(x5)\n",
        "\n",
        "result=concatenate([x1,x2,x3,x4,x5],axis=-1)\n",
        "result=Flatten()(result)\n",
        "result=Dropout(0.2)(result)\n",
        "result=Dense(128,activation='relu')(result)\n",
        "result=Dropout(0.2)(result)\n",
        "result=Dense(1,activation='sigmoid')(result)\n",
        "final_model=Model([input_1, input_2,input_3,input_4,input_5], result)"
      ],
      "metadata": {
        "id": "WKMKKt5a-_At"
      },
      "execution_count": 49,
      "outputs": []
    },
    {
      "cell_type": "code",
      "source": [
        "final_model.compile(loss='binary_crossentropy', optimizer='adam',metrics = ['accuracy',f1])\n",
        "final_model.summary()"
      ],
      "metadata": {
        "colab": {
          "base_uri": "https://localhost:8080/"
        },
        "id": "Kg9W0vWUABmg",
        "outputId": "a8a902b5-2a93-4e94-eba7-e7fe65337372"
      },
      "execution_count": 50,
      "outputs": [
        {
          "output_type": "stream",
          "name": "stdout",
          "text": [
            "Model: \"model_8\"\n",
            "__________________________________________________________________________________________________\n",
            " Layer (type)                   Output Shape         Param #     Connected to                     \n",
            "==================================================================================================\n",
            " input_33 (InputLayer)          [(None, 10)]         0           []                               \n",
            "                                                                                                  \n",
            " input_29 (InputLayer)          [(None, None)]       0           []                               \n",
            "                                                                                                  \n",
            " input_30 (InputLayer)          [(None, None)]       0           []                               \n",
            "                                                                                                  \n",
            " input_31 (InputLayer)          [(None, None)]       0           []                               \n",
            "                                                                                                  \n",
            " input_32 (InputLayer)          [(None, None)]       0           []                               \n",
            "                                                                                                  \n",
            " dense_25 (Dense)               (None, 128)          1408        ['input_33[0][0]']               \n",
            "                                                                                                  \n",
            " embedding_22 (Embedding)       (None, None, 300)    40147500    ['input_29[0][0]']               \n",
            "                                                                                                  \n",
            " embedding_23 (Embedding)       (None, None, 300)    40147500    ['input_30[0][0]']               \n",
            "                                                                                                  \n",
            " embedding_24 (Embedding)       (None, None, 300)    40147500    ['input_31[0][0]']               \n",
            "                                                                                                  \n",
            " embedding_25 (Embedding)       (None, None, 300)    40147500    ['input_32[0][0]']               \n",
            "                                                                                                  \n",
            " dropout_12 (Dropout)           (None, 128)          0           ['dense_25[0][0]']               \n",
            "                                                                                                  \n",
            " lstm_22 (LSTM)                 (None, 64)           93440       ['embedding_22[0][0]']           \n",
            "                                                                                                  \n",
            " lstm_23 (LSTM)                 (None, 64)           93440       ['embedding_23[0][0]']           \n",
            "                                                                                                  \n",
            " lstm_24 (LSTM)                 (None, 64)           93440       ['embedding_24[0][0]']           \n",
            "                                                                                                  \n",
            " lstm_25 (LSTM)                 (None, 64)           93440       ['embedding_25[0][0]']           \n",
            "                                                                                                  \n",
            " dense_26 (Dense)               (None, 64)           8256        ['dropout_12[0][0]']             \n",
            "                                                                                                  \n",
            " concatenate_6 (Concatenate)    (None, 320)          0           ['lstm_22[0][0]',                \n",
            "                                                                  'lstm_23[0][0]',                \n",
            "                                                                  'lstm_24[0][0]',                \n",
            "                                                                  'lstm_25[0][0]',                \n",
            "                                                                  'dense_26[0][0]']               \n",
            "                                                                                                  \n",
            " flatten_6 (Flatten)            (None, 320)          0           ['concatenate_6[0][0]']          \n",
            "                                                                                                  \n",
            " dropout_13 (Dropout)           (None, 320)          0           ['flatten_6[0][0]']              \n",
            "                                                                                                  \n",
            " dense_27 (Dense)               (None, 128)          41088       ['dropout_13[0][0]']             \n",
            "                                                                                                  \n",
            " dropout_14 (Dropout)           (None, 128)          0           ['dense_27[0][0]']               \n",
            "                                                                                                  \n",
            " dense_28 (Dense)               (None, 1)            129         ['dropout_14[0][0]']             \n",
            "                                                                                                  \n",
            "==================================================================================================\n",
            "Total params: 161,014,641\n",
            "Trainable params: 424,641\n",
            "Non-trainable params: 160,590,000\n",
            "__________________________________________________________________________________________________\n"
          ]
        }
      ]
    },
    {
      "cell_type": "code",
      "source": [
        "final_history=final_model.fit([pad_train_q1,pad_train_q2,pad_train_common_words, pad_train_different_words,train_features], train_data.iloc[:,5:].values, \n",
        "          validation_data=([pad_test_q1,pad_test_q2,pad_test_common_words, pad_test_different_words,validation_features], validation_data.iloc[:,5:].values), \n",
        "          batch_size=128, epochs=10)"
      ],
      "metadata": {
        "colab": {
          "base_uri": "https://localhost:8080/"
        },
        "id": "tUhZ7NFHAGD7",
        "outputId": "110a9dc9-3662-4ace-bb7e-d16028b0f638"
      },
      "execution_count": 52,
      "outputs": [
        {
          "output_type": "stream",
          "name": "stdout",
          "text": [
            "Epoch 1/10\n",
            "2843/2843 [==============================] - 59s 19ms/step - loss: 0.4543 - accuracy: 0.7724 - f1: 0.6901 - val_loss: 0.3852 - val_accuracy: 0.8133 - val_f1: 0.7490\n",
            "Epoch 2/10\n",
            "2843/2843 [==============================] - 54s 19ms/step - loss: 0.3795 - accuracy: 0.8152 - f1: 0.7500 - val_loss: 0.3572 - val_accuracy: 0.8276 - val_f1: 0.7645\n",
            "Epoch 3/10\n",
            "2843/2843 [==============================] - 52s 18ms/step - loss: 0.3561 - accuracy: 0.8298 - f1: 0.7704 - val_loss: 0.3419 - val_accuracy: 0.8363 - val_f1: 0.7787\n",
            "Epoch 4/10\n",
            "2843/2843 [==============================] - 52s 18ms/step - loss: 0.3403 - accuracy: 0.8387 - f1: 0.7829 - val_loss: 0.3345 - val_accuracy: 0.8401 - val_f1: 0.7821\n",
            "Epoch 5/10\n",
            "2843/2843 [==============================] - 52s 18ms/step - loss: 0.3284 - accuracy: 0.8458 - f1: 0.7922 - val_loss: 0.3300 - val_accuracy: 0.8435 - val_f1: 0.7890\n",
            "Epoch 6/10\n",
            "2843/2843 [==============================] - 52s 18ms/step - loss: 0.3192 - accuracy: 0.8504 - f1: 0.7982 - val_loss: 0.3249 - val_accuracy: 0.8474 - val_f1: 0.7922\n",
            "Epoch 7/10\n",
            "2843/2843 [==============================] - 52s 18ms/step - loss: 0.3127 - accuracy: 0.8547 - f1: 0.8044 - val_loss: 0.3249 - val_accuracy: 0.8477 - val_f1: 0.7883\n",
            "Epoch 8/10\n",
            "2843/2843 [==============================] - 52s 18ms/step - loss: 0.3067 - accuracy: 0.8576 - f1: 0.8080 - val_loss: 0.3212 - val_accuracy: 0.8517 - val_f1: 0.8031\n",
            "Epoch 9/10\n",
            "2843/2843 [==============================] - 56s 20ms/step - loss: 0.3015 - accuracy: 0.8603 - f1: 0.8119 - val_loss: 0.3289 - val_accuracy: 0.8470 - val_f1: 0.8012\n",
            "Epoch 10/10\n",
            "2843/2843 [==============================] - 51s 18ms/step - loss: 0.2971 - accuracy: 0.8633 - f1: 0.8157 - val_loss: 0.3194 - val_accuracy: 0.8531 - val_f1: 0.8060\n"
          ]
        }
      ]
    },
    {
      "cell_type": "code",
      "source": [
        "final_model.save (\"model_nlp.h5\")"
      ],
      "metadata": {
        "id": "1H4sb25bkdMH"
      },
      "execution_count": 53,
      "outputs": []
    },
    {
      "cell_type": "code",
      "source": [
        "plt.plot(final_history.history[\"val_f1\"])\n",
        "plt.plot(small_history_simple.history[\"val_f1\"])\n",
        "plt.plot(small_history_intersect.history[\"val_f1\"])\n",
        "plt.plot(history_features.history[\"val_f1\"])\n",
        "plt.title(\"f1 on training set\")\n",
        "plt.legend([\"final model\",\"only questions\",\"only common/diff\",\"only features\"])\n",
        "plt.show()"
      ],
      "metadata": {
        "colab": {
          "base_uri": "https://localhost:8080/",
          "height": 281
        },
        "id": "mzFj-plMk0zH",
        "outputId": "3b56ad42-3fcd-450b-e298-8176e3c4befe"
      },
      "execution_count": 60,
      "outputs": [
        {
          "output_type": "display_data",
          "data": {
            "text/plain": [
              "<Figure size 432x288 with 1 Axes>"
            ],
            "image/png": "[encoded data removed]"
          },
          "metadata": {
            "needs_background": "light"
          }
        }
      ]
    },
    {
      "cell_type": "code",
      "source": [
        "plt.plot(final_history.history[\"f1\"])\n",
        "plt.plot(small_history_simple.history[\"f1\"])\n",
        "plt.plot(small_history_intersect.history[\"f1\"])\n",
        "plt.plot(history_features.history[\"f1\"])\n",
        "plt.title(\"f1 on validation set\")\n",
        "plt.legend([\"final model\",\"only questions\",\"only common/diff\",\"only features\"])\n",
        "plt.show()"
      ],
      "metadata": {
        "colab": {
          "base_uri": "https://localhost:8080/",
          "height": 281
        },
        "id": "sfmsn1_tlmE3",
        "outputId": "eb62795b-efd6-4049-af5d-3709be387e20"
      },
      "execution_count": 61,
      "outputs": [
        {
          "output_type": "display_data",
          "data": {
            "text/plain": [
              "<Figure size 432x288 with 1 Axes>"
            ],
            "image/png": "[encoded data removed]"
          },
          "metadata": {
            "needs_background": "light"
          }
        }
      ]
    },
    {
      "cell_type": "code",
      "source": [
        "plt.plot(final_history.history[\"accuracy\"])\n",
        "plt.plot(small_history_simple.history[\"accuracy\"])\n",
        "plt.plot(small_history_intersect.history[\"accuracy\"])\n",
        "plt.plot(history_features.history[\"accuracy\"])\n",
        "plt.title(\"Accuracy on training set\")\n",
        "plt.legend([\"final model\",\"only questions\",\"only common/diff\",\"only features\"])\n",
        "plt.show()"
      ],
      "metadata": {
        "colab": {
          "base_uri": "https://localhost:8080/",
          "height": 281
        },
        "id": "70FEpap6mG3z",
        "outputId": "68bbf10f-4313-447a-8ce9-557e42de0054"
      },
      "execution_count": 62,
      "outputs": [
        {
          "output_type": "display_data",
          "data": {
            "text/plain": [
              "<Figure size 432x288 with 1 Axes>"
            ],
            "image/png": "[encoded data removed]"
          },
          "metadata": {
            "needs_background": "light"
          }
        }
      ]
    },
    {
      "cell_type": "code",
      "source": [
        "plt.plot(final_history.history[\"val_accuracy\"])\n",
        "plt.plot(small_history_simple.history[\"val_accuracy\"])\n",
        "plt.plot(small_history_intersect.history[\"val_accuracy\"])\n",
        "plt.plot(history_features.history[\"val_accuracy\"])\n",
        "plt.title(\"Accuracy on validation set\")\n",
        "plt.legend([\"final model\",\"only questions\",\"only common/diff\",\"only features\"])\n",
        "plt.show()"
      ],
      "metadata": {
        "colab": {
          "base_uri": "https://localhost:8080/",
          "height": 281
        },
        "id": "eDrkmbDCmRTX",
        "outputId": "37038a08-a3ff-4cce-dc2c-055e85d4a1bb"
      },
      "execution_count": 63,
      "outputs": [
        {
          "output_type": "display_data",
          "data": {
            "text/plain": [
              "<Figure size 432x288 with 1 Axes>"
            ],
            "image/png": "[encoded data removed]"
          },
          "metadata": {
            "needs_background": "light"
          }
        }
      ]
    },
    {
      "cell_type": "code",
      "source": [
        "plt.plot(final_history.history[\"loss\"])\n",
        "plt.plot(small_history_simple.history[\"loss\"])\n",
        "plt.plot(small_history_intersect.history[\"loss\"])\n",
        "plt.plot(history_features.history[\"loss\"])\n",
        "plt.title(\"Loss on training set\")\n",
        "plt.legend([\"final model\",\"only questions\",\"only common/diff\",\"only features\"])\n",
        "plt.show()"
      ],
      "metadata": {
        "colab": {
          "base_uri": "https://localhost:8080/",
          "height": 281
        },
        "id": "hzU8abCQmf0y",
        "outputId": "1874017a-aa57-4048-ba2e-398872657c8b"
      },
      "execution_count": 65,
      "outputs": [
        {
          "output_type": "display_data",
          "data": {
            "text/plain": [
              "<Figure size 432x288 with 1 Axes>"
            ],
            "image/png": "[encoded data removed]"
          },
          "metadata": {
            "needs_background": "light"
          }
        }
      ]
    },
    {
      "cell_type": "code",
      "source": [
        "plt.plot(final_history.history[\"val_loss\"])\n",
        "plt.plot(small_history_simple.history[\"val_loss\"])\n",
        "plt.plot(small_history_intersect.history[\"val_loss\"])\n",
        "plt.plot(history_features.history[\"val_loss\"])\n",
        "plt.title(\"Loss on validation set\")\n",
        "plt.legend([\"final model\",\"only questions\",\"only common/diff\",\"only features\"])\n",
        "plt.show()"
      ],
      "metadata": {
        "colab": {
          "base_uri": "https://localhost:8080/",
          "height": 281
        },
        "id": "JiK3YUSkmYeV",
        "outputId": "ff3db354-4eba-4fe2-ce90-602e47c33b2e"
      },
      "execution_count": 64,
      "outputs": [
        {
          "output_type": "display_data",
          "data": {
            "text/plain": [
              "<Figure size 432x288 with 1 Axes>"
            ],
            "image/png": "[encoded data removed]"
          },
          "metadata": {
            "needs_background": "light"
          }
        }
      ]
    }
  ]
}